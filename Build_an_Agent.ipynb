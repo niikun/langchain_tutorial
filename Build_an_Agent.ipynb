{
  "nbformat": 4,
  "nbformat_minor": 0,
  "metadata": {
    "colab": {
      "provenance": [],
      "authorship_tag": "ABX9TyNSrhc8mIcmBg9epXhrC6Au",
      "include_colab_link": true
    },
    "kernelspec": {
      "name": "python3",
      "display_name": "Python 3"
    },
    "language_info": {
      "name": "python"
    }
  },
  "cells": [
    {
      "cell_type": "markdown",
      "metadata": {
        "id": "view-in-github",
        "colab_type": "text"
      },
      "source": [
        "<a href=\"https://colab.research.google.com/github/niikun/langchain_tutorial/blob/main/Build_an_Agent.ipynb\" target=\"_parent\"><img src=\"https://colab.research.google.com/assets/colab-badge.svg\" alt=\"Open In Colab\"/></a>"
      ]
    },
    {
      "cell_type": "markdown",
      "source": [
        "# Build an Agent\n",
        "出展:[https://python.langchain.com/v0.2/docs/tutorials/agents/]  \n",
        "\n",
        "言語モデルはそれ自体ではアクションを起こすことができない。LangChainの大きなユースケースはエージェントの作成です。エージェントは、LLMを推論エンジンとして使用し、どのアクションを取るか、どの入力を渡すかを決定するシステムです。アクションを実行した後、その結果をLLMにフィードバックし、さらにアクションが必要か、あるいは終了しても問題ないかを判断することができます。\n",
        "\n",
        "このチュートリアルでは、検索エンジンと対話できるエージェントを作ります。このエージェントに質問をしたり、検索ツールを呼び出すのを見たり、会話をしたりすることができます。  "
      ],
      "metadata": {
        "id": "N-35MsDw1gE-"
      }
    },
    {
      "cell_type": "markdown",
      "source": [
        "## Concepts  \n",
        "このチュートリアルでは、以下の方法を学びます：\n",
        "\n",
        "- 言語モデル、特にツール呼び出し機能を使用する\n",
        "- 検索ツールを使ってインターネットから情報を検索する。\n",
        "- LangGraphエージェントを構成し、LLMを使ってアクションを決定し、実行する。\n",
        "- LangSmithを使ったアプリケーションのデバッグとトレース"
      ],
      "metadata": {
        "id": "rRd1LvvL10nT"
      }
    },
    {
      "cell_type": "markdown",
      "source": [
        "# End-to-end agent\n",
        "以下のコード・スニペットは、どのツールを使用するかを決定するためにLLMを使用する、完全に機能するエージェントを表しています。一般的な検索ツールを備えている。会話記憶を持っており、マルチターンチャットボットとして使うことができます。\n",
        "\n",
        "このガイドの残りの部分では、個々のコンポーネントと各パーツが何をするかについて説明します！"
      ],
      "metadata": {
        "id": "iMR_mQ-52GKW"
      }
    },
    {
      "cell_type": "code",
      "source": [
        "# Import relevant functionality\n",
        "from langchain_anthropic import ChatAnthropic\n",
        "from langchain_community.tools.tavily_search import TavilySearchResults\n",
        "from langchain_core.messages import HumanMessage\n",
        "from langgraph.checkpoint.sqlite import SqliteSaver\n",
        "from langgraph.prebuilt import chat_agent_executor\n",
        "\n",
        "# Create the agent\n",
        "memory = SqliteSaver.from_conn_string(\":memory:\")\n",
        "model = ChatAnthropic(model_name=\"claude-3-sonnet-20240229\")\n",
        "search = TavilySearchResults(max_results=2)\n",
        "tools = [search]\n",
        "agent_executor = chat_agent_executor.create_tool_calling_executor(\n",
        "    model, tools, checkpointer=memory\n",
        ")\n",
        "\n",
        "# Use the agent\n",
        "config = {\"configurable\": {\"thread_id\": \"abc123\"}}\n",
        "for chunk in agent_executor.stream(\n",
        "    {\"messages\": [HumanMessage(content=\"hi im bob! and i live in sf\")]}, config\n",
        "):\n",
        "    print(chunk)\n",
        "    print(\"----\")\n",
        "\n",
        "for chunk in agent_executor.stream(\n",
        "    {\"messages\": [HumanMessage(content=\"whats the weather where I live?\")]}, config\n",
        "):\n",
        "    print(chunk)\n",
        "    print(\"----\")"
      ],
      "metadata": {
        "colab": {
          "base_uri": "https://localhost:8080/",
          "height": 407
        },
        "collapsed": true,
        "id": "k1N2Uoqk10KV",
        "outputId": "910bd3a4-c6f5-4737-8025-84d1f1543f2c"
      },
      "execution_count": null,
      "outputs": [
        {
          "output_type": "error",
          "ename": "ModuleNotFoundError",
          "evalue": "No module named 'langchain_anthropic'",
          "traceback": [
            "\u001b[0;31m---------------------------------------------------------------------------\u001b[0m",
            "\u001b[0;31mModuleNotFoundError\u001b[0m                       Traceback (most recent call last)",
            "\u001b[0;32m<ipython-input-1-b69d6d08b34f>\u001b[0m in \u001b[0;36m<cell line: 2>\u001b[0;34m()\u001b[0m\n\u001b[1;32m      1\u001b[0m \u001b[0;31m# Import relevant functionality\u001b[0m\u001b[0;34m\u001b[0m\u001b[0;34m\u001b[0m\u001b[0m\n\u001b[0;32m----> 2\u001b[0;31m \u001b[0;32mfrom\u001b[0m \u001b[0mlangchain_anthropic\u001b[0m \u001b[0;32mimport\u001b[0m \u001b[0mChatAnthropic\u001b[0m\u001b[0;34m\u001b[0m\u001b[0;34m\u001b[0m\u001b[0m\n\u001b[0m\u001b[1;32m      3\u001b[0m \u001b[0;32mfrom\u001b[0m \u001b[0mlangchain_community\u001b[0m\u001b[0;34m.\u001b[0m\u001b[0mtools\u001b[0m\u001b[0;34m.\u001b[0m\u001b[0mtavily_search\u001b[0m \u001b[0;32mimport\u001b[0m \u001b[0mTavilySearchResults\u001b[0m\u001b[0;34m\u001b[0m\u001b[0;34m\u001b[0m\u001b[0m\n\u001b[1;32m      4\u001b[0m \u001b[0;32mfrom\u001b[0m \u001b[0mlangchain_core\u001b[0m\u001b[0;34m.\u001b[0m\u001b[0mmessages\u001b[0m \u001b[0;32mimport\u001b[0m \u001b[0mHumanMessage\u001b[0m\u001b[0;34m\u001b[0m\u001b[0;34m\u001b[0m\u001b[0m\n\u001b[1;32m      5\u001b[0m \u001b[0;32mfrom\u001b[0m \u001b[0mlanggraph\u001b[0m\u001b[0;34m.\u001b[0m\u001b[0mcheckpoint\u001b[0m\u001b[0;34m.\u001b[0m\u001b[0msqlite\u001b[0m \u001b[0;32mimport\u001b[0m \u001b[0mSqliteSaver\u001b[0m\u001b[0;34m\u001b[0m\u001b[0;34m\u001b[0m\u001b[0m\n",
            "\u001b[0;31mModuleNotFoundError\u001b[0m: No module named 'langchain_anthropic'",
            "",
            "\u001b[0;31m---------------------------------------------------------------------------\u001b[0;32m\nNOTE: If your import is failing due to a missing package, you can\nmanually install dependencies using either !pip or !apt.\n\nTo view examples of installing some common dependencies, click the\n\"Open Examples\" button below.\n\u001b[0;31m---------------------------------------------------------------------------\u001b[0m\n"
          ],
          "errorDetails": {
            "actions": [
              {
                "action": "open_url",
                "actionText": "Open Examples",
                "url": "/notebooks/snippets/importing_libraries.ipynb"
              }
            ]
          }
        }
      ]
    },
    {
      "cell_type": "markdown",
      "source": [
        "LangGraphは、複数の言語モデル（LLM）を使った状態を持つマルチエージェントアプリケーションを構築するためのライブラリです。これはLangChainの拡張として機能し、非線形なフローを持つ複雑な状態管理が必要なアプリケーションに適しています。\n",
        "\n",
        "具体的には、以下のような用途があります：\n",
        "\n",
        "- マルチエージェントワークフロー: 複数のエージェントが協調してタスクを分割して解決するシステムを構築するのに適しています。各エージェントは共有された状態と異なるツールを使用して協力します​ (GitHub)​​ (Analytics Vidhya)​。\n",
        "\n",
        "- 状態管理と中断の処理: LangGraphは、エージェントが対話やツールの使用を通じて複数のターンにわたって状態をシームレスに管理するための機能を提供します。これにより、プロセスを一時停止したり、人間の介入を挟んだりすることが容易になります​ (LangChain AI)​​ (GitHub)​。\n",
        "\n",
        "- サイクルと持続性: LangGraphは、繰り返しのループや持続性を必要とするアプリケーションに対して特に有効です。これにより、長期間にわたるマルチセッションアプリケーションの構築が容易になります​ (GitHub)​​ (Analytics Vidhya)​。\n",
        "\n",
        "- ツールの柔軟な利用: LangGraphは、ツールの呼び出しや動的なルーティングを柔軟に管理するためのノードとエッジを定義することで、LLMを使ったエージェントの動作を細かく制御することができます​ (LangChain AI)​​ (GitHub)​。\n",
        "\n",
        "例えば、LangGraphを使ってカスタマーサポートエージェントを構築する場合、エージェントは質問に答えるためにツールを使用したり、必要に応じて人間のオペレーターと連携したりできます。プロセスを一時停止して、後で再開することも簡単です。\n",
        "\n",
        "LangGraphを使用することで、複雑な状態管理やエージェントの協調動作が求められるアプリケーションの開発がより効率的かつ効果的になります。詳細なドキュメントやチュートリアルについては、LangGraphの公式ドキュメントを参照してください​ (LangChain AI)​​ (GitHub)​。"
      ],
      "metadata": {
        "id": "kW3C9YH_4J7R"
      }
    },
    {
      "cell_type": "markdown",
      "source": [
        "## Instllation  \n",
        "LangChain"
      ],
      "metadata": {
        "id": "lqUYQYLz8dz6"
      }
    },
    {
      "cell_type": "code",
      "execution_count": null,
      "metadata": {
        "colab": {
          "base_uri": "https://localhost:8080/"
        },
        "collapsed": true,
        "id": "y-0wbuI51ddq",
        "outputId": "00815df1-3555-4cc7-86a8-a2252282880c"
      },
      "outputs": [
        {
          "output_type": "stream",
          "name": "stdout",
          "text": [
            "Collecting langchain-community\n",
            "  Downloading langchain_community-0.2.4-py3-none-any.whl (2.2 MB)\n",
            "\u001b[2K     \u001b[90m━━━━━━━━━━━━━━━━━━━━━━━━━━━━━━━━━━━━━━━━\u001b[0m \u001b[32m2.2/2.2 MB\u001b[0m \u001b[31m8.3 MB/s\u001b[0m eta \u001b[36m0:00:00\u001b[0m\n",
            "\u001b[?25hCollecting langgraph\n",
            "  Downloading langgraph-0.0.65-py3-none-any.whl (88 kB)\n",
            "\u001b[2K     \u001b[90m━━━━━━━━━━━━━━━━━━━━━━━━━━━━━━━━━━━━━━━━\u001b[0m \u001b[32m88.3/88.3 kB\u001b[0m \u001b[31m9.3 MB/s\u001b[0m eta \u001b[36m0:00:00\u001b[0m\n",
            "\u001b[?25hCollecting langchain-anthropic\n",
            "  Downloading langchain_anthropic-0.1.15-py3-none-any.whl (16 kB)\n",
            "Requirement already satisfied: PyYAML>=5.3 in /usr/local/lib/python3.10/dist-packages (from langchain-community) (6.0.1)\n",
            "Requirement already satisfied: SQLAlchemy<3,>=1.4 in /usr/local/lib/python3.10/dist-packages (from langchain-community) (2.0.30)\n",
            "Requirement already satisfied: aiohttp<4.0.0,>=3.8.3 in /usr/local/lib/python3.10/dist-packages (from langchain-community) (3.9.5)\n",
            "Collecting dataclasses-json<0.7,>=0.5.7 (from langchain-community)\n",
            "  Downloading dataclasses_json-0.6.6-py3-none-any.whl (28 kB)\n",
            "Collecting langchain<0.3.0,>=0.2.0 (from langchain-community)\n",
            "  Downloading langchain-0.2.3-py3-none-any.whl (974 kB)\n",
            "\u001b[2K     \u001b[90m━━━━━━━━━━━━━━━━━━━━━━━━━━━━━━━━━━━━━━━━\u001b[0m \u001b[32m974.0/974.0 kB\u001b[0m \u001b[31m27.1 MB/s\u001b[0m eta \u001b[36m0:00:00\u001b[0m\n",
            "\u001b[?25hCollecting langchain-core<0.3.0,>=0.2.0 (from langchain-community)\n",
            "  Downloading langchain_core-0.2.5-py3-none-any.whl (314 kB)\n",
            "\u001b[2K     \u001b[90m━━━━━━━━━━━━━━━━━━━━━━━━━━━━━━━━━━━━━━━━\u001b[0m \u001b[32m314.7/314.7 kB\u001b[0m \u001b[31m18.5 MB/s\u001b[0m eta \u001b[36m0:00:00\u001b[0m\n",
            "\u001b[?25hCollecting langsmith<0.2.0,>=0.1.0 (from langchain-community)\n",
            "  Downloading langsmith-0.1.75-py3-none-any.whl (124 kB)\n",
            "\u001b[2K     \u001b[90m━━━━━━━━━━━━━━━━━━━━━━━━━━━━━━━━━━━━━━━━\u001b[0m \u001b[32m124.9/124.9 kB\u001b[0m \u001b[31m12.9 MB/s\u001b[0m eta \u001b[36m0:00:00\u001b[0m\n",
            "\u001b[?25hRequirement already satisfied: numpy<2,>=1 in /usr/local/lib/python3.10/dist-packages (from langchain-community) (1.25.2)\n",
            "Requirement already satisfied: requests<3,>=2 in /usr/local/lib/python3.10/dist-packages (from langchain-community) (2.31.0)\n",
            "Requirement already satisfied: tenacity<9.0.0,>=8.1.0 in /usr/local/lib/python3.10/dist-packages (from langchain-community) (8.3.0)\n",
            "Collecting anthropic<1,>=0.28.0 (from langchain-anthropic)\n",
            "  Downloading anthropic-0.28.0-py3-none-any.whl (862 kB)\n",
            "\u001b[2K     \u001b[90m━━━━━━━━━━━━━━━━━━━━━━━━━━━━━━━━━━━━━━━━\u001b[0m \u001b[32m862.7/862.7 kB\u001b[0m \u001b[31m44.8 MB/s\u001b[0m eta \u001b[36m0:00:00\u001b[0m\n",
            "\u001b[?25hRequirement already satisfied: defusedxml<0.8.0,>=0.7.1 in /usr/local/lib/python3.10/dist-packages (from langchain-anthropic) (0.7.1)\n",
            "Requirement already satisfied: aiosignal>=1.1.2 in /usr/local/lib/python3.10/dist-packages (from aiohttp<4.0.0,>=3.8.3->langchain-community) (1.3.1)\n",
            "Requirement already satisfied: attrs>=17.3.0 in /usr/local/lib/python3.10/dist-packages (from aiohttp<4.0.0,>=3.8.3->langchain-community) (23.2.0)\n",
            "Requirement already satisfied: frozenlist>=1.1.1 in /usr/local/lib/python3.10/dist-packages (from aiohttp<4.0.0,>=3.8.3->langchain-community) (1.4.1)\n",
            "Requirement already satisfied: multidict<7.0,>=4.5 in /usr/local/lib/python3.10/dist-packages (from aiohttp<4.0.0,>=3.8.3->langchain-community) (6.0.5)\n",
            "Requirement already satisfied: yarl<2.0,>=1.0 in /usr/local/lib/python3.10/dist-packages (from aiohttp<4.0.0,>=3.8.3->langchain-community) (1.9.4)\n",
            "Requirement already satisfied: async-timeout<5.0,>=4.0 in /usr/local/lib/python3.10/dist-packages (from aiohttp<4.0.0,>=3.8.3->langchain-community) (4.0.3)\n",
            "Requirement already satisfied: anyio<5,>=3.5.0 in /usr/local/lib/python3.10/dist-packages (from anthropic<1,>=0.28.0->langchain-anthropic) (3.7.1)\n",
            "Requirement already satisfied: distro<2,>=1.7.0 in /usr/lib/python3/dist-packages (from anthropic<1,>=0.28.0->langchain-anthropic) (1.7.0)\n",
            "Collecting httpx<1,>=0.23.0 (from anthropic<1,>=0.28.0->langchain-anthropic)\n",
            "  Downloading httpx-0.27.0-py3-none-any.whl (75 kB)\n",
            "\u001b[2K     \u001b[90m━━━━━━━━━━━━━━━━━━━━━━━━━━━━━━━━━━━━━━━━\u001b[0m \u001b[32m75.6/75.6 kB\u001b[0m \u001b[31m7.2 MB/s\u001b[0m eta \u001b[36m0:00:00\u001b[0m\n",
            "\u001b[?25hCollecting jiter<1,>=0.4.0 (from anthropic<1,>=0.28.0->langchain-anthropic)\n",
            "  Downloading jiter-0.4.1-cp310-cp310-manylinux_2_17_x86_64.manylinux2014_x86_64.whl (328 kB)\n",
            "\u001b[2K     \u001b[90m━━━━━━━━━━━━━━━━━━━━━━━━━━━━━━━━━━━━━━━━\u001b[0m \u001b[32m328.3/328.3 kB\u001b[0m \u001b[31m28.4 MB/s\u001b[0m eta \u001b[36m0:00:00\u001b[0m\n",
            "\u001b[?25hRequirement already satisfied: pydantic<3,>=1.9.0 in /usr/local/lib/python3.10/dist-packages (from anthropic<1,>=0.28.0->langchain-anthropic) (2.7.3)\n",
            "Requirement already satisfied: sniffio in /usr/local/lib/python3.10/dist-packages (from anthropic<1,>=0.28.0->langchain-anthropic) (1.3.1)\n",
            "Requirement already satisfied: tokenizers>=0.13.0 in /usr/local/lib/python3.10/dist-packages (from anthropic<1,>=0.28.0->langchain-anthropic) (0.19.1)\n",
            "Requirement already satisfied: typing-extensions<5,>=4.7 in /usr/local/lib/python3.10/dist-packages (from anthropic<1,>=0.28.0->langchain-anthropic) (4.12.1)\n",
            "Collecting marshmallow<4.0.0,>=3.18.0 (from dataclasses-json<0.7,>=0.5.7->langchain-community)\n",
            "  Downloading marshmallow-3.21.3-py3-none-any.whl (49 kB)\n",
            "\u001b[2K     \u001b[90m━━━━━━━━━━━━━━━━━━━━━━━━━━━━━━━━━━━━━━━━\u001b[0m \u001b[32m49.2/49.2 kB\u001b[0m \u001b[31m4.9 MB/s\u001b[0m eta \u001b[36m0:00:00\u001b[0m\n",
            "\u001b[?25hCollecting typing-inspect<1,>=0.4.0 (from dataclasses-json<0.7,>=0.5.7->langchain-community)\n",
            "  Downloading typing_inspect-0.9.0-py3-none-any.whl (8.8 kB)\n",
            "Collecting langchain-text-splitters<0.3.0,>=0.2.0 (from langchain<0.3.0,>=0.2.0->langchain-community)\n",
            "  Downloading langchain_text_splitters-0.2.1-py3-none-any.whl (23 kB)\n",
            "Collecting jsonpatch<2.0,>=1.33 (from langchain-core<0.3.0,>=0.2.0->langchain-community)\n",
            "  Downloading jsonpatch-1.33-py2.py3-none-any.whl (12 kB)\n",
            "Collecting packaging<24.0,>=23.2 (from langchain-core<0.3.0,>=0.2.0->langchain-community)\n",
            "  Downloading packaging-23.2-py3-none-any.whl (53 kB)\n",
            "\u001b[2K     \u001b[90m━━━━━━━━━━━━━━━━━━━━━━━━━━━━━━━━━━━━━━━━\u001b[0m \u001b[32m53.0/53.0 kB\u001b[0m \u001b[31m5.6 MB/s\u001b[0m eta \u001b[36m0:00:00\u001b[0m\n",
            "\u001b[?25hCollecting orjson<4.0.0,>=3.9.14 (from langsmith<0.2.0,>=0.1.0->langchain-community)\n",
            "  Downloading orjson-3.10.3-cp310-cp310-manylinux_2_17_x86_64.manylinux2014_x86_64.whl (142 kB)\n",
            "\u001b[2K     \u001b[90m━━━━━━━━━━━━━━━━━━━━━━━━━━━━━━━━━━━━━━━━\u001b[0m \u001b[32m142.5/142.5 kB\u001b[0m \u001b[31m14.7 MB/s\u001b[0m eta \u001b[36m0:00:00\u001b[0m\n",
            "\u001b[?25hRequirement already satisfied: charset-normalizer<4,>=2 in /usr/local/lib/python3.10/dist-packages (from requests<3,>=2->langchain-community) (3.3.2)\n",
            "Requirement already satisfied: idna<4,>=2.5 in /usr/local/lib/python3.10/dist-packages (from requests<3,>=2->langchain-community) (3.7)\n",
            "Requirement already satisfied: urllib3<3,>=1.21.1 in /usr/local/lib/python3.10/dist-packages (from requests<3,>=2->langchain-community) (2.0.7)\n",
            "Requirement already satisfied: certifi>=2017.4.17 in /usr/local/lib/python3.10/dist-packages (from requests<3,>=2->langchain-community) (2024.6.2)\n",
            "Requirement already satisfied: greenlet!=0.4.17 in /usr/local/lib/python3.10/dist-packages (from SQLAlchemy<3,>=1.4->langchain-community) (3.0.3)\n",
            "Requirement already satisfied: exceptiongroup in /usr/local/lib/python3.10/dist-packages (from anyio<5,>=3.5.0->anthropic<1,>=0.28.0->langchain-anthropic) (1.2.1)\n",
            "Collecting httpcore==1.* (from httpx<1,>=0.23.0->anthropic<1,>=0.28.0->langchain-anthropic)\n",
            "  Downloading httpcore-1.0.5-py3-none-any.whl (77 kB)\n",
            "\u001b[2K     \u001b[90m━━━━━━━━━━━━━━━━━━━━━━━━━━━━━━━━━━━━━━━━\u001b[0m \u001b[32m77.9/77.9 kB\u001b[0m \u001b[31m7.4 MB/s\u001b[0m eta \u001b[36m0:00:00\u001b[0m\n",
            "\u001b[?25hCollecting h11<0.15,>=0.13 (from httpcore==1.*->httpx<1,>=0.23.0->anthropic<1,>=0.28.0->langchain-anthropic)\n",
            "  Downloading h11-0.14.0-py3-none-any.whl (58 kB)\n",
            "\u001b[2K     \u001b[90m━━━━━━━━━━━━━━━━━━━━━━━━━━━━━━━━━━━━━━━━\u001b[0m \u001b[32m58.3/58.3 kB\u001b[0m \u001b[31m5.2 MB/s\u001b[0m eta \u001b[36m0:00:00\u001b[0m\n",
            "\u001b[?25hCollecting jsonpointer>=1.9 (from jsonpatch<2.0,>=1.33->langchain-core<0.3.0,>=0.2.0->langchain-community)\n",
            "  Downloading jsonpointer-2.4-py2.py3-none-any.whl (7.8 kB)\n",
            "Requirement already satisfied: annotated-types>=0.4.0 in /usr/local/lib/python3.10/dist-packages (from pydantic<3,>=1.9.0->anthropic<1,>=0.28.0->langchain-anthropic) (0.7.0)\n",
            "Requirement already satisfied: pydantic-core==2.18.4 in /usr/local/lib/python3.10/dist-packages (from pydantic<3,>=1.9.0->anthropic<1,>=0.28.0->langchain-anthropic) (2.18.4)\n",
            "Requirement already satisfied: huggingface-hub<1.0,>=0.16.4 in /usr/local/lib/python3.10/dist-packages (from tokenizers>=0.13.0->anthropic<1,>=0.28.0->langchain-anthropic) (0.23.2)\n",
            "Collecting mypy-extensions>=0.3.0 (from typing-inspect<1,>=0.4.0->dataclasses-json<0.7,>=0.5.7->langchain-community)\n",
            "  Downloading mypy_extensions-1.0.0-py3-none-any.whl (4.7 kB)\n",
            "Requirement already satisfied: filelock in /usr/local/lib/python3.10/dist-packages (from huggingface-hub<1.0,>=0.16.4->tokenizers>=0.13.0->anthropic<1,>=0.28.0->langchain-anthropic) (3.14.0)\n",
            "Requirement already satisfied: fsspec>=2023.5.0 in /usr/local/lib/python3.10/dist-packages (from huggingface-hub<1.0,>=0.16.4->tokenizers>=0.13.0->anthropic<1,>=0.28.0->langchain-anthropic) (2023.6.0)\n",
            "Requirement already satisfied: tqdm>=4.42.1 in /usr/local/lib/python3.10/dist-packages (from huggingface-hub<1.0,>=0.16.4->tokenizers>=0.13.0->anthropic<1,>=0.28.0->langchain-anthropic) (4.66.4)\n",
            "Installing collected packages: packaging, orjson, mypy-extensions, jsonpointer, jiter, h11, typing-inspect, marshmallow, jsonpatch, httpcore, langsmith, httpx, dataclasses-json, langchain-core, anthropic, langgraph, langchain-text-splitters, langchain-anthropic, langchain, langchain-community\n",
            "  Attempting uninstall: packaging\n",
            "    Found existing installation: packaging 24.0\n",
            "    Uninstalling packaging-24.0:\n",
            "      Successfully uninstalled packaging-24.0\n",
            "Successfully installed anthropic-0.28.0 dataclasses-json-0.6.6 h11-0.14.0 httpcore-1.0.5 httpx-0.27.0 jiter-0.4.1 jsonpatch-1.33 jsonpointer-2.4 langchain-0.2.3 langchain-anthropic-0.1.15 langchain-community-0.2.4 langchain-core-0.2.5 langchain-text-splitters-0.2.1 langgraph-0.0.65 langsmith-0.1.75 marshmallow-3.21.3 mypy-extensions-1.0.0 orjson-3.10.3 packaging-23.2 typing-inspect-0.9.0\n"
          ]
        }
      ],
      "source": [
        "!pip install -U langchain-community langgraph langchain-anthropic"
      ]
    },
    {
      "cell_type": "code",
      "source": [
        "import os\n",
        "from google.colab import userdata\n",
        "os.environ[\"LANGCHAIN_API_KEY\"] = userdata.get('LANGCHAIN_API_KEY')\n",
        "os.environ[\"OPENAI_API_KEY\"] = userdata.get('OPENAI_API_KEY')"
      ],
      "metadata": {
        "id": "f0Om2ZB_8phe"
      },
      "execution_count": null,
      "outputs": []
    },
    {
      "cell_type": "markdown",
      "source": [
        "## Tavily Search  \n",
        "AIエージェント（LLM）のために特別に構築された検索エンジンでAIの能力を高め、リアルタイムで正確かつ事実に基づいた結果を迅速に提供します。Search APIは、LLMとAIアプリケーションを信頼できるリアルタイムの知識に接続し、幻覚や全体的なバイアスを減らすのに役立ちます。簡単に言えば、このAPIはAIがより良い意思決定をするのを助けます.  \n",
        "使い方：  \n",
        "https://python.langchain.com/v0.2/docs/integrations/tools/tavily_search/  \n",
        "API:  \n",
        "https://tavily.com/"
      ],
      "metadata": {
        "id": "rJ3lklVr92xC"
      }
    },
    {
      "cell_type": "code",
      "source": [
        "os.environ[\"TAVILY_API_KEY\"] = userdata.get('TAVILY_API_KEY')"
      ],
      "metadata": {
        "id": "C1c8-uAB9HpS"
      },
      "execution_count": null,
      "outputs": []
    },
    {
      "cell_type": "markdown",
      "source": [
        "## Define tools  \n",
        "まず、使いたいツールを作る必要がある。主なツールは検索エンジンのTavilyです。LangChainにはTavily検索エンジンをツールとして簡単に使うための組み込みツールがあります。"
      ],
      "metadata": {
        "id": "CmweR4Jy_xPQ"
      }
    },
    {
      "cell_type": "code",
      "source": [
        "from langchain_community.tools.tavily_search import TavilySearchResults"
      ],
      "metadata": {
        "id": "xg5_VtLG-60z"
      },
      "execution_count": null,
      "outputs": []
    },
    {
      "cell_type": "code",
      "source": [
        "search = TavilySearchResults(max_results=2)"
      ],
      "metadata": {
        "id": "stD3NqLb_9Pk"
      },
      "execution_count": null,
      "outputs": []
    },
    {
      "cell_type": "code",
      "source": [
        "search.invoke(\"what is the weather in Tokyo\")"
      ],
      "metadata": {
        "colab": {
          "base_uri": "https://localhost:8080/"
        },
        "id": "FYZX2HU__9M3",
        "outputId": "d9a98e25-c609-4925-8c81-850806f2efc8"
      },
      "execution_count": null,
      "outputs": [
        {
          "output_type": "execute_result",
          "data": {
            "text/plain": [
              "[{'url': 'https://www.weatherapi.com/',\n",
              "  'content': \"{'location': {'name': 'Tokyo', 'region': 'Tokyo', 'country': 'Japan', 'lat': 35.69, 'lon': 139.69, 'tz_id': 'Asia/Tokyo', 'localtime_epoch': 1717851864, 'localtime': '2024-06-08 22:04'}, 'current': {'last_updated_epoch': 1717851600, 'last_updated': '2024-06-08 22:00', 'temp_c': 22.4, 'temp_f': 72.3, 'is_day': 0, 'condition': {'text': 'Partly cloudy', 'icon': '//cdn.weatherapi.com/weather/64x64/night/116.png', 'code': 1003}, 'wind_mph': 11.9, 'wind_kph': 19.1, 'wind_degree': 180, 'wind_dir': 'S', 'pressure_mb': 1016.0, 'pressure_in': 30.0, 'precip_mm': 0.0, 'precip_in': 0.0, 'humidity': 78, 'cloud': 50, 'feelslike_c': 24.7, 'feelslike_f': 76.5, 'windchill_c': 21.5, 'windchill_f': 70.7, 'heatindex_c': 24.5, 'heatindex_f': 76.0, 'dewpoint_c': 15.6, 'dewpoint_f': 60.2, 'vis_km': 10.0, 'vis_miles': 6.0, 'uv': 1.0, 'gust_mph': 18.1, 'gust_kph': 29.1}}\"},\n",
              " {'url': 'https://www.accuweather.com/en/jp/tokyo/226396/august-weather/226396',\n",
              "  'content': 'Get the monthly weather forecast for Tokyo, Tokyo, Japan, including daily high/low, historical averages, to help you plan ahead.'}]"
            ]
          },
          "metadata": {},
          "execution_count": 7
        }
      ]
    },
    {
      "cell_type": "markdown",
      "source": [
        "必要であれば、他のツールを作ることもできる。必要なツールがすべて揃ったら、後で参照できるようにリストに入れることができる。"
      ],
      "metadata": {
        "id": "VHS60lSfAn8g"
      }
    },
    {
      "cell_type": "code",
      "source": [
        "tools = [search]"
      ],
      "metadata": {
        "id": "X5pTDh5D_9Kk"
      },
      "execution_count": null,
      "outputs": []
    },
    {
      "cell_type": "markdown",
      "source": [
        "## Using Language Models  \n",
        "次に、ツールを呼び出すための言語モデルの使い方を学びましょう。LangChainは様々な言語モデルをサポートしています！"
      ],
      "metadata": {
        "id": "72cjciDBA5EL"
      }
    },
    {
      "cell_type": "code",
      "source": [
        "!pip install -qU langchain-openai"
      ],
      "metadata": {
        "colab": {
          "base_uri": "https://localhost:8080/"
        },
        "id": "pWciRCHv_9Hv",
        "outputId": "818e1d71-a0b7-44b6-aa41-d616356a5857"
      },
      "execution_count": null,
      "outputs": [
        {
          "output_type": "stream",
          "name": "stdout",
          "text": [
            "\u001b[2K     \u001b[90m━━━━━━━━━━━━━━━━━━━━━━━━━━━━━━━━━━━━━━━━\u001b[0m \u001b[32m325.5/325.5 kB\u001b[0m \u001b[31m3.2 MB/s\u001b[0m eta \u001b[36m0:00:00\u001b[0m\n",
            "\u001b[2K     \u001b[90m━━━━━━━━━━━━━━━━━━━━━━━━━━━━━━━━━━━━━━━━\u001b[0m \u001b[32m1.1/1.1 MB\u001b[0m \u001b[31m15.4 MB/s\u001b[0m eta \u001b[36m0:00:00\u001b[0m\n",
            "\u001b[?25h"
          ]
        }
      ]
    },
    {
      "cell_type": "code",
      "source": [
        "from langchain_openai import ChatOpenAI\n",
        "\n",
        "model = ChatOpenAI(model=\"gpt-4o\")"
      ],
      "metadata": {
        "id": "34AqA-qh_9E8"
      },
      "execution_count": null,
      "outputs": []
    },
    {
      "cell_type": "code",
      "source": [
        "from langchain_core.messages import HumanMessage\n",
        "\n",
        "response = model.invoke([HumanMessage(content=\"こんにちは！\")])\n",
        "response.content"
      ],
      "metadata": {
        "colab": {
          "base_uri": "https://localhost:8080/",
          "height": 36
        },
        "id": "MczzWO-N_9B5",
        "outputId": "5c6dd88c-49ed-49f2-a363-ccd7c3cf41b0"
      },
      "execution_count": null,
      "outputs": [
        {
          "output_type": "execute_result",
          "data": {
            "text/plain": [
              "'こんにちは！お元気ですか？何かお手伝いできることがあれば教えてくださいね。'"
            ],
            "application/vnd.google.colaboratory.intrinsic+json": {
              "type": "string"
            }
          },
          "metadata": {},
          "execution_count": 11
        }
      ]
    },
    {
      "cell_type": "markdown",
      "source": [
        "このモデルでツールを呼び出せるようにするにはどうすればいいか、見てみよう。それを可能にするために、.bind_toolsを使い、言語モデルにこれらのツールに関する知識を与えている。"
      ],
      "metadata": {
        "id": "fWLS7vhYBzmA"
      }
    },
    {
      "cell_type": "code",
      "source": [
        "model_with_tools = model.bind_tools(tools)"
      ],
      "metadata": {
        "id": "gbnfYHEXBy8F"
      },
      "execution_count": null,
      "outputs": []
    },
    {
      "cell_type": "markdown",
      "source": [
        "これでモデルを呼び出すことができる。まずは通常のメッセージで呼び出し、どのように応答するかを見てみましょう。  \n",
        "`content`フィールドと`tool_calls`フィールドの両方を見ることができます。"
      ],
      "metadata": {
        "id": "_yggKfYmCMGW"
      }
    },
    {
      "cell_type": "code",
      "source": [
        "response = model_with_tools.invoke([HumanMessage(content=\"こんにちは！\")])\n",
        "print(f\"Content:{response.content}\")\n",
        "print(f\"Tool calls:{response.tool_calls}\")"
      ],
      "metadata": {
        "colab": {
          "base_uri": "https://localhost:8080/"
        },
        "id": "2hN_pmJ6BoYi",
        "outputId": "ebc2a4f3-0582-4b03-9ca0-55f23262fc35"
      },
      "execution_count": null,
      "outputs": [
        {
          "output_type": "stream",
          "name": "stdout",
          "text": [
            "Content:こんにちは！今日はどのようなお手伝いができるでしょうか？\n",
            "Tool calls:[]\n"
          ]
        }
      ]
    },
    {
      "cell_type": "markdown",
      "source": [
        "では、ツールが呼び出されることを期待するような入力で呼び出してみよう。"
      ],
      "metadata": {
        "id": "JHnXbzKEDNhE"
      }
    },
    {
      "cell_type": "code",
      "source": [
        "response = model_with_tools.invoke([HumanMessage(content=\"東京の天気を教えて？\")])\n",
        "print(f\"Content:{response.content}\")\n",
        "print(f\"Tool calls:{response.tool_calls}\")"
      ],
      "metadata": {
        "colab": {
          "base_uri": "https://localhost:8080/"
        },
        "id": "mqVuk0oADGYr",
        "outputId": "fa62af6e-814f-4f65-b549-8b633edd949c"
      },
      "execution_count": null,
      "outputs": [
        {
          "output_type": "stream",
          "name": "stdout",
          "text": [
            "Content:\n",
            "Tool calls:[{'name': 'tavily_search_results_json', 'args': {'query': 'Tokyo weather'}, 'id': 'call_iNm5avFVcHqfLV9fCTQ6Ewh3'}]\n"
          ]
        }
      ]
    },
    {
      "cell_type": "markdown",
      "source": [
        "コンテンツはありませんが、ツールの呼び出しはあります！それはTavily Searchツールを呼び出すことを望んでいる。\n",
        "\n",
        "これはまだツールを呼び出していません。実際に呼び出すには、エージェントを作成します。"
      ],
      "metadata": {
        "id": "glZMtLPyD6uH"
      }
    },
    {
      "cell_type": "markdown",
      "source": [
        "## Create the Agent\n",
        "ツールとLLMを定義したので、エージェントを作成します。エージェントの構築にはLangGraphを使います。現在、エージェントを構築するために高レベルのインタフェースを使用していますが、LangGraphの良いところは、この高レベルのインタフェースが、エージェントのロジックを変更したい場合のために、低レベルで高度に制御可能なAPIに支えられていることです。  \n",
        "`model_with_tools`ではなく、`model`を渡していることに注意してください。それは、`create_tool_calling_executor`が私たちのために`bind_tools`を呼び出すからです。\n"
      ],
      "metadata": {
        "id": "oHidGJnh9wuu"
      }
    },
    {
      "cell_type": "code",
      "source": [
        "from langgraph.prebuilt import create_react_agent\n",
        "agent_executor = create_react_agent(model,tools)"
      ],
      "metadata": {
        "id": "pYiO-SGRDetq"
      },
      "execution_count": null,
      "outputs": []
    },
    {
      "cell_type": "markdown",
      "source": [
        "## Run the Agent\n",
        "これでエージェントをいくつかのクエリで実行できるようになりました！今のところ、これらはすべてステートレスクエリであることに注意してください（以前のインタラクションを覚えていません）。エージェントはインタラクションの最後に最終的な状態を返すことに注意してください（これはあらゆる入力を含みますが、出力だけを取得する方法は後で説明します）。\n",
        "\n",
        "まず最初に、ツールを呼び出す必要がないときにどのように応答するかを見てみましょう："
      ],
      "metadata": {
        "id": "EZDcD5iv_Ghq"
      }
    },
    {
      "cell_type": "code",
      "source": [
        "response = agent_executor.invoke({\"messages\":[HumanMessage(content=\"こんにちは‼\")]})\n",
        "response['messages']"
      ],
      "metadata": {
        "colab": {
          "base_uri": "https://localhost:8080/"
        },
        "id": "AK4deX9u_DXq",
        "outputId": "c40de556-15ef-48b8-d587-3d4562bf686d"
      },
      "execution_count": null,
      "outputs": [
        {
          "output_type": "execute_result",
          "data": {
            "text/plain": [
              "[HumanMessage(content='こんにちは‼', id='cc6328ac-6f0b-4a29-b0fe-cc4044b148ce'),\n",
              " AIMessage(content='こんにちは！今日はどんなお手伝いができますか？', response_metadata={'token_usage': {'completion_tokens': 14, 'prompt_tokens': 81, 'total_tokens': 95}, 'model_name': 'gpt-4o', 'system_fingerprint': 'fp_319be4768e', 'finish_reason': 'stop', 'logprobs': None}, id='run-56cc7b01-6ddf-4c2e-85dc-10283311e86e-0', usage_metadata={'input_tokens': 81, 'output_tokens': 14, 'total_tokens': 95})]"
            ]
          },
          "metadata": {},
          "execution_count": 23
        }
      ]
    },
    {
      "cell_type": "code",
      "source": [
        "response = agent_executor.invoke(\n",
        "    {\"messages\":[HumanMessage(content=\"東京の天気を教えて\")]}\n",
        ")\n",
        "response['messages']"
      ],
      "metadata": {
        "colab": {
          "base_uri": "https://localhost:8080/"
        },
        "id": "wm-smN8T_vWZ",
        "outputId": "e33d1620-ae77-44b5-b07c-92a270b2099b"
      },
      "execution_count": null,
      "outputs": [
        {
          "output_type": "execute_result",
          "data": {
            "text/plain": [
              "[HumanMessage(content='東京の天気を教えて', id='eebbef85-e270-47e9-b34a-f88ce5012d30'),\n",
              " AIMessage(content='', additional_kwargs={'tool_calls': [{'id': 'call_LWfVlKa8zBvadN163MZTPnVM', 'function': {'arguments': '{\"query\":\"東京 天気\"}', 'name': 'tavily_search_results_json'}, 'type': 'function'}]}, response_metadata={'token_usage': {'completion_tokens': 20, 'prompt_tokens': 86, 'total_tokens': 106}, 'model_name': 'gpt-4o', 'system_fingerprint': 'fp_319be4768e', 'finish_reason': 'tool_calls', 'logprobs': None}, id='run-70c56914-eb72-4833-8e1b-99606fdd1dbd-0', tool_calls=[{'name': 'tavily_search_results_json', 'args': {'query': '東京 天気'}, 'id': 'call_LWfVlKa8zBvadN163MZTPnVM'}], usage_metadata={'input_tokens': 86, 'output_tokens': 20, 'total_tokens': 106}),\n",
              " ToolMessage(content='[{\"url\": \"https://weathernews.jp/onebox/35.691667/139.750000/q=\\\\u6771\\\\u4eac&v=7568ec9017b1ee619b719b2e27bb2222ff3533c3d047419f40d2980258c0a799&temp=c&lang=ja\", \"content\": \"\\\\u5348\\\\u5f8c20%\\\\n\\\\u65e5\\\\u5dee\\\\u3057\\\\u306b\\\\u6696\\\\u304b\\\\u3055\\\\u3092\\\\u611f\\\\u3058\\\\u305d\\\\u3046\\\\n\\\\u660e\\\\u65e5\\\\u306f\\\\u6674\\\\u308c\\\\u3066\\\\u3001\\\\u65e5\\\\u5411\\\\u3067\\\\u306f\\\\u5c11\\\\u3057\\\\u6696\\\\u304b\\\\u3055\\\\u3092\\\\u611f\\\\u3058\\\\u3089\\\\u308c\\\\u305d\\\\u3046\\\\u3067\\\\u3059\\\\u3002\\\\u671d\\\\u6669\\\\u306f\\\\u51b7\\\\u3048\\\\u308b\\\\u306e\\\\u3067\\\\u3001\\\\u4f53\\\\u8abf\\\\u3092\\\\u5d29\\\\u3055\\\\u306a\\\\u3044\\\\u3088\\\\u3046\\\\u306b\\\\u304a\\\\u6c17\\\\u3092\\\\u4ed8\\\\u3051\\\\u304f\\\\u3060\\\\u3055\\\\u3044\\\\u3002\\\\u6d17\\\\u6fef\\\\u306a\\\\u3069\\\\u65e5\\\\u5dee\\\\u3057\\\\u306e\\\\u6709\\\\u52b9\\\\u6d3b\\\\u7528\\\\u304c\\\\u30aa\\\\u30b9\\\\u30b9\\\\u30e1\\\\u3067\\\\u3059\\\\u3002\\\\n5\\\\u5206\\\\u3054\\\\u3068\\\\n1\\\\u6642\\\\u9593\\\\u3054\\\\u3068\\\\n\\\\u6642\\\\n\\\\u5206\\\\n\\\\u5929\\\\u6c17\\\\n18\\\\u6642\\\\n\\\\u30fb\\\\n\\\\u661f\\\\u306f\\\\u3063\\\\u304d\\\\u308a\\\\n40\\\\n\\\\u661f\\\\u306f\\\\u3063\\\\u304d\\\\u308a\\\\n\\\\u30fb\\\\n\\\\u661f\\\\u306f\\\\u3063\\\\u304d\\\\u308a\\\\n50\\\\n\\\\u661f\\\\u306f\\\\u3063\\\\u304d\\\\u308a\\\\n\\\\u30fb\\\\n\\\\u661f\\\\u306f\\\\u3063\\\\u304d\\\\u308a\\\\n19\\\\u6642\\\\n00\\\\n\\\\u661f\\\\u306f\\\\u3063\\\\u304d\\\\u308a\\\\n\\\\u30fb\\\\n\\\\u661f\\\\u306f\\\\u3063\\\\u304d\\\\u308a\\\\n10\\\\n\\\\u661f\\\\u306f\\\\u3063\\\\u304d\\\\u308a\\\\n\\\\u30fb\\\\n\\\\u661f\\\\u306f\\\\u3063\\\\u304d\\\\u308a\\\\n20\\\\n\\\\u661f\\\\u306f\\\\u3063\\\\u304d\\\\u308a\\\\n\\\\u30fb\\\\n\\\\u661f\\\\u306f\\\\u3063\\\\u304d\\\\u308a\\\\n30\\\\n\\\\u661f\\\\u306f\\\\u3063\\\\u304d\\\\u308a\\\\n\\\\u65e5\\\\n\\\\u6642\\\\n\\\\u5929\\\\u6c17\\\\n\\\\u964d\\\\u6c34\\\\n\\\\u6c17\\\\u6e29\\\\n\\\\u98a8\\\\n26\\\\u65e5(\\\\u706b)\\\\n19\\\\n0\\\\n8\\\\u2103\\\\n0m\\\\n20\\\\n0\\\\n8\\\\u2103\\\\n0m\\\\n21\\\\n0\\\\n8\\\\u2103\\\\n1m\\\\n22\\\\n0\\\\n7\\\\u2103\\\\n1m\\\\n23\\\\n0\\\\n6\\\\u2103\\\\n2m\\\\n27\\\\u65e5(\\\\u6c34)\\\\n0\\\\n0\\\\n6\\\\u2103\\\\n2m\\\\n1\\\\n0\\\\n6\\\\u2103\\\\n2m\\\\n2\\\\n0\\\\n5\\\\u2103\\\\n2m\\\\n3\\\\n0\\\\n5\\\\u2103\\\\n2m\\\\n4\\\\n0\\\\n6\\\\u2103\\\\n2m\\\\n5\\\\n0\\\\n6\\\\u2103\\\\n2m\\\\n6\\\\n0\\\\n6\\\\u2103\\\\n3m\\\\n7\\\\n0\\\\n6\\\\u2103\\\\n3m\\\\n8\\\\n0\\\\n8\\\\u2103\\\\n2m\\\\n9\\\\n0\\\\n8\\\\u2103\\\\n2m\\\\n10\\\\n0\\\\n10\\\\u2103\\\\n2m\\\\n11\\\\n0\\\\n11\\\\u2103\\\\n2m\\\\n12\\\\n0\\\\n12\\\\u2103\\\\n2m\\\\n13\\\\n0\\\\n13\\\\u2103\\\\n2m\\\\n14\\\\n0\\\\n13\\\\u2103\\\\n2m\\\\n15\\\\n0\\\\n13\\\\u2103\\\\n2m\\\\n16\\\\n0\\\\n11\\\\u2103\\\\n2m\\\\n17\\\\n0\\\\n10\\\\u2103\\\\n2m\\\\n18\\\\n0\\\\n9\\\\u2103\\\\n2m\\\\n19\\\\n0\\\\n8\\\\u2103\\\\n2m\\\\n20\\\\n0\\\\n8\\\\u2103\\\\n2m\\\\n21\\\\n0\\\\n7\\\\u2103\\\\n2m\\\\n22\\\\n0\\\\n7\\\\u2103\\\\n2m\\\\n23\\\\n0\\\\n6\\\\u2103\\\\n2m\\\\n28\\\\u65e5(\\\\u6728)\\\\n0\\\\n0\\\\n6\\\\u2103\\\\n2m\\\\n1\\\\n0\\\\n6\\\\u2103\\\\n2m\\\\n2\\\\n0\\\\n6\\\\u2103\\\\n2m\\\\n3\\\\n0\\\\n6\\\\u2103\\\\n2m\\\\n4\\\\n0\\\\n5\\\\u2103\\\\n2m\\\\n5\\\\n0\\\\n5\\\\u2103\\\\n2m\\\\n6\\\\n0\\\\n4\\\\u2103\\\\n2m\\\\n7\\\\n0\\\\n4\\\\u2103\\\\n2m\\\\n8\\\\n0\\\\n4\\\\u2103\\\\n2m\\\\n9\\\\n0\\\\n5\\\\u2103\\\\n2m\\\\n10\\\\n0\\\\n6\\\\u2103\\\\n2m\\\\n11\\\\n0\\\\n7\\\\u2103\\\\n2m\\\\n12\\\\n0\\\\n8\\\\u2103\\\\n2m\\\\n13\\\\n0\\\\n9\\\\u2103\\\\n2m\\\\n14\\\\n0\\\\n10\\\\u2103\\\\n2m\\\\n15\\\\n0\\\\n10\\\\u2103\\\\n2m\\\\n16\\\\n0\\\\n8\\\\u2103\\\\n2m\\\\n17\\\\n0\\\\n8\\\\u2103\\\\n2m\\\\n18\\\\n0\\\\n7\\\\u2103\\\\n1m\\\\n19\\\\n0\\\\n7\\\\u2103\\\\n1m\\\\n20\\\\n0\\\\n7\\\\u2103\\\\n1m\\\\n21\\\\n0\\\\n6\\\\u2103\\\\n1m\\\\n22\\\\n0\\\\n6\\\\u2103\\\\n1m\\\\n23\\\\n0\\\\n6\\\\u2103\\\\n2m\\\\n29\\\\u65e5(\\\\u91d1)\\\\n0\\\\n0\\\\n5\\\\u2103\\\\n2m\\\\n1\\\\n0\\\\n5\\\\u2103\\\\n1m\\\\n2\\\\n0\\\\n4\\\\u2103\\\\n1m\\\\n3\\\\n0\\\\n4\\\\u2103\\\\n1m\\\\n4\\\\n0\\\\n3\\\\u2103\\\\n1m\\\\n5\\\\n0\\\\n3\\\\u2103\\\\n1m\\\\n6\\\\n0\\\\n4\\\\u2103\\\\n1m\\\\n7\\\\n0\\\\n3\\\\u2103\\\\n1m\\\\n8\\\\n0\\\\n5\\\\u2103\\\\n1m\\\\n9\\\\n0\\\\n7\\\\u2103\\\\n1m\\\\n10\\\\n0\\\\n10\\\\u2103\\\\n2m\\\\n11\\\\n0\\\\n12\\\\u2103\\\\n2m\\\\n12\\\\n0\\\\n13\\\\u2103\\\\n2m\\\\n13\\\\n0\\\\n14\\\\u2103\\\\n2m\\\\n14\\\\n0\\\\n14\\\\u2103\\\\n2m\\\\n15\\\\n0\\\\n14\\\\u2103\\\\n2m\\\\n16\\\\n0\\\\n13\\\\u2103\\\\n2m\\\\n17\\\\n0\\\\n11\\\\u2103\\\\n2m\\\\n18\\\\n0\\\\n10\\\\u2103\\\\n2m\\\\n\\\\u65e5\\\\u5dee\\\\u3057\\\\u306b\\\\u6696\\\\u304b\\\\u3055\\\\u3092\\\\u611f\\\\u3058\\\\u305d\\\\u3046\\\\n\\\\u660e\\\\u65e5\\\\u306f\\\\u6674\\\\u308c\\\\u3066\\\\u3001\\\\u65e5\\\\u5411\\\\u3067\\\\u306f\\\\u5c11\\\\u3057\\\\u6696\\\\u304b\\\\u3055\\\\u3092\\\\u611f\\\\u3058\\\\u3089\\\\u308c\\\\u305d\\\\u3046\\\\u3067\\\\u3059\\\\u3002\\\\u671d\\\\u6669\\\\u306f\\\\u51b7\\\\u3048\\\\u308b\\\\u306e\\\\u3067\\\\u3001\\\\u4f53\\\\u8abf\\\\u3092\\\\u5d29\\\\u3055\\\\u306a\\\\u3044\\\\u3088\\\\u3046\\\\u306b\\\\u304a\\\\u6c17\\\\u3092\\\\u4ed8\\\\u3051\\\\u304f\\\\u3060\\\\u3055\\\\u3044\\\\u3002\\\\u6d17\\\\u6fef\\\\u306a\\\\u3069\\\\u65e5\\\\u5dee\\\\u3057\\\\u306e\\\\u6709\\\\u52b9\\\\u6d3b\\\\u7528\\\\u304c\\\\u30aa\\\\u30b9\\\\u30b9\\\\u30e1\\\\u3067\\\\u3059\\\\u3002\\\\n\\\\u9031\\\\u9593(10\\\\u65e5\\\\u9593)\\\\n\\\\u65e5\\\\n\\\\u5929\\\\u6c17\\\\n\\\\u6700\\\\u9ad8\\\\n\\\\u6700\\\\u4f4e\\\\n\\\\u964d\\\\u6c34\\\\n27(\\\\u6c34)\\\\n13\\\\u2103\\\\n5\\\\u2103\\\\n20%\\\\n28(\\\\u6728)\\\\n10\\\\u2103\\\\n4\\\\u2103\\\\n30%\\\\n29(\\\\u91d1)\\\\n14\\\\u2103\\\\n3\\\\u2103\\\\n20%\\\\n30(\\\\u571f)\\\\n13\\\\u2103\\\\n5\\\\u2103\\\\n20%\\\\n31(\\\\u65e5)\\\\n14\\\\u2103\\\\n5\\\\u2103\\\\n60%\\\\n1(\\\\u6708)\\\\n11\\\\u2103\\\\n6\\\\u2103\\\\n30%\\\\n2(\\\\u706b)\\\\n12\\\\u2103\\\\n4\\\\u2103\\\\n20%\\\\n3(\\\\u6c34)\\\\n13\\\\u2103\\\\n4\\\\u2103\\\\n60%\\\\n4(\\\\u6728)\\\\n14\\\\u2103\\\\n7\\\\u2103\\\\n60%\\\\n5(\\\\u91d1)\\\\n12\\\\u2103\\\\n5\\\\u2103\\\\n40%\\\\n\\\\u5927\\\\u6666\\\\u65e5\\\\u306f\\\\u96e8\\\\u3084\\\\u4f53\\\\u611f\\\\u5909\\\\u5316\\\\u306b\\\\u6ce8\\\\u610f\\\\n\\\\u6674\\\\u308c\\\\u308b\\\\u65e5\\\\u304c\\\\u591a\\\\u304f\\\\u306a\\\\u308a\\\\u3001\\\\u5e74\\\\u672b\\\\u5e74\\\\u59cb\\\\u306e\\\\u6e96\\\\u5099\\\\u304c\\\\u6357\\\\u308a\\\\u305d\\\\u3046\\\\u3067\\\\u3059\\\\u3002\\\\u7a7a\\\\u6c17\\\\u304c\\\\u4e7e\\\\u71e5\\\\u3059\\\\u308b\\\\u305f\\\\u3081\\\\u3001\\\\u706b\\\\u306e\\\\u5143\\\\u306b\\\\u306f\\\\u5341\\\\u5206\\\\u3054\\\\u6ce8\\\\u610f\\\\u3092\\\\u3002\\\\u5927\\\\u6666\\\\u65e5\\\\u306f\\\\u96e8\\\\u304c\\\\u964d\\\\u308a\\\\u3001\\\\u5bd2\\\\u3055\\\\u304c\\\\u7de9\\\\u307f\\\\u307e\\\\u3059\\\\u3002\\\\u4f53\\\\u611f\\\\u5909\\\\u5316\\\\u306b\\\\u6ce8\\\\u610f\\\\u3057\\\\u3066\\\\u304f\\\\u3060\\\\u3055\\\\u3044\\\\u3002\\\\n\\\\u304a\\\\u5929\\\\u6c17\\\\u30cb\\\\u30e5\\\\u30fc\\\\u30b9\\\\n\\\\u660e\\\\u65e527\\\\u65e5(\\\\u6c34)\\\\u306e\\\\u5929\\\\u6c17\\\\u4e88\\\\u5831\\\\u3000\\\\u5317\\\\u65e5\\\\u672c\\\\u306f\\\\u5439\\\\u96ea\\\\u306b\\\\u6ce8\\\\u610f\\\\u3000\\\\u95a2\\\\u6771\\\\u306a\\\\u3069\\\\u592a\\\\u5e73\\\\u6d0b\\\\u5074\\\\u306f\\\\u7a4f\\\\u3084\\\\u304b\\\\u306a\\\\u6674\\\\u5929\\\\n2023.12.26 17:01\\\\n\\\\u5e74\\\\u672b\\\\u5e74\\\\u59cb\\\\u306f\\\\u9ad8\\\\u6e29\\\\u50be\\\\u5411\\\\u3000\\\\u7a4d\\\\u96ea\\\\u30a8\\\\u30ea\\\\u30a2\\\\u306f\\\\u878d\\\\u96ea\\\\u306b\\\\u6ce8\\\\u610f\\\\n2023.12.26 17:31\\\\n\\\\u5e74\\\\u672b\\\\u5e74\\\\u59cb\\\\u306e\\\\u5929\\\\u6c17\\\\u3000\\\\u5927\\\\u6666\\\\u65e5\\\\u306f\\\\u5e83\\\\u7bc4\\\\u56f2\\\\u3067\\\\u96e8\\\\u3000\\\\u6c17\\\\u6e29\\\\u306f\\\\u5e73\\\\u5e74\\\\u3088\\\\u308a\\\\u9ad8\\\\u3081\\\\n2023.12.26 18:00\\\\n\\\\u304a\\\\u5929\\\\u6c17\\\\u30cb\\\\u30e5\\\\u30fc\\\\u30b9\\\\u3092\\\\u3082\\\\u3063\\\\u3068\\\\u8aad\\\\u3080 \\\\u2192\\\\n\\\\u304a\\\\u5929\\\\u6c17\\\\u30cb\\\\u30e5\\\\u30fc\\\\u30b9\\\\n\\\\u660e\\\\u65e527\\\\u65e5(\\\\u6c34)\\\\u306e\\\\u5929\\\\u6c17\\\\u4e88\\\\u5831\\\\u3000\\\\u5317\\\\u65e5\\\\u672c\\\\u306f\\\\u5439\\\\u96ea\\\\u306b\\\\u6ce8\\\\u610f\\\\u3000\\\\u95a2\\\\u6771\\\\u306a\\\\u3069\\\\u592a\\\\u5e73\\\\u6d0b\\\\u5074\\\\u306f\\\\u7a4f\\\\u3084\\\\u304b\\\\u306a\\\\u6674\\\\u5929\\\\n2023.12.26 17:01\\\\n\\\\u5e74\\\\u672b\\\\u5e74\\\\u59cb\\\\u306f\\\\u9ad8\\\\u6e29\\\\u50be\\\\u5411\\\\u3000\\\\u7a4d\\\\u96ea\\\\u30a8\\\\u30ea\\\\u30a2\\\\u306f\\\\u878d\\\\u96ea\\\\u306b\\\\u6ce8\\\\u610f\\\\n2023.12.26 17:31\\\\n\\\\u5e74\\\\u672b\\\\u5e74\\\\u59cb\\\\u306e\\\\u5929\\\\u6c17\\\\u3000\\\\u5927\\\\u6666\\\\u65e5\\\\u306f\\\\u5e83\\\\u7bc4\\\\u56f2\\\\u3067\\\\u96e8\\\\u3000\\\\u6c17\\\\u6e29\\\\u306f\\\\u5e73\\\\u5e74\\\\u3088\\\\u308a\\\\u9ad8\\\\u3081\\\\n2023.12.26 18:00\\\\n\\\\u304a\\\\u5929\\\\u6c17\\\\u30cb\\\\u30e5\\\\u30fc\\\\u30b9\\\\u3092\\\\u3082\\\\u3063\\\\u3068\\\\u8aad\\\\u3080 \\\\u2192\\\\n\\\\u6771\\\\u4eac\\\\u4ed8\\\\u8fd1\\\\u306e\\\\u5929\\\\u6c17\\\\n\\\\u96e8\\\\u96f2\\\\u30ec\\\\u30fc\\\\u30c0\\\\u30fc\\\\n\\\\u5730\\\\u56f3\\\\u3092\\\\u62e1\\\\u5927\\\\n\\\\u4eca\\\\u306e\\\\u5929\\\\u6c17\\\\n\\\\u30b0\\\\u30e9\\\\u30d5\\\\n18:10\\\\n\\\\u7a7a\\\\u306e\\\\u5199\\\\u771f\\\\n\\\\u7a7a\\\\u306e\\\\u5199\\\\u771f\\\\u3092\\\\u3082\\\\u3063\\\\u3068\\\\u898b\\\\u308b\\\\n\\\\u30e9\\\\u30a4\\\\u30d6\\\\u52d5\\\\u753b\\\\u756a\\\\u7d44\\\\n\\\\u3010\\\\u30e9\\\\u30a4\\\\u30d6\\\\u653e\\\\u9001\\\\u4e2d\\\\u3011\\\\u6700\\\\u65b0\\\\u5730\\\\u9707\\\\u30fb\\\\u6c17\\\\u8c61\\\\u60c5\\\\u5831\\\\u3000\\\\u30a6\\\\u30a7\\\\u30b6\\\\u30fc\\\\u30cb\\\\u30e5\\\\u30fc\\\\u30b9LiVE\\\\n\\\\u6771\\\\u4eac\\\\u4ed8\\\\u8fd1\\\\u306e\\\\u89b3\\\\u6e2c\\\\u5024\\\\n(\\\\u2103)\\\\n(m/s)\\\\n(mm/h)\\\\n(\\\\u5206)\\\\n\\\\u7d9a\\\\u304d\\\\u3092\\\\u898b\\\\u308b\\\\n\\\\u6771\\\\u4eac\\\\u90fd\\\\u306e\\\\u90fd\\\\u5e02\\\\u306e\\\\u5929\\\\u6c17\\\\u4e88\\\\u5831\\\\n\\\\u5468\\\\u8fba\\\\u306e\\\\u90fd\\\\u9053\\\\u5e9c\\\\u770c\\\\n\\\\u304a\\\\u5929\\\\u6c17\\\\u30cb\\\\u30e5\\\\u30fc\\\\u30b9\\\\n\\\\u65b0\\\\u6f5f\\\\u30fb\\\\u9577\\\\u5ca1\\\\u3067\\\\u671d\\\\u8679\\\\u51fa\\\\u73fe\\\\u3000\\\\u4eca\\\\u65e5\\\\u306e\\\\u5317\\\\u9678\\\\u306f\\\\u96e8\\\\u304c\\\\u964d\\\\u308a\\\\u3084\\\\u3059\\\\u3044\\\\n2023.12.26 08:00\\\\n\\\\u98fe\\\\u308b\\\\u3068\\\\u7e01\\\\u8d77\\\\u304c\\\\u60aa\\\\u3044\\\\u65e5\\\\u3068\\\\u306f\\\\uff1f\\\\u3000\\\\u6b63\\\\u6708\\\\u98fe\\\\u308a\\\\u306e\\\\u610f\\\\u5473\\\\u3068\\\\u6b63\\\\u3057\\\\u3044\\\\u98fe\\\\u308a\\\\u65b9\\\\n2023.12.26 11:10\\\\n\\\\u9031\\\\u9593\\\\u5929\\\\u6c17\\\\u3000\\\\u5bd2\\\\u3055\\\\u7de9\\\\u3080\\\\u5e74\\\\u672b\\\\u5e74\\\\u59cb\\\\u3000\\\\u5927\\\\u6666\\\\u65e5\\\\u306f\\\\u5168\\\\u56fd\\\\u7684\\\\u306b\\\\u96e8\\\\u3067\\\\u8352\\\\u5929\\\\u304b\\\\n2023.12.26 15:00\\\\n\\\\u5927\\\\u6666\\\\u65e5\\\\u306f\\\\u5e83\\\\u7bc4\\\\u56f2\\\\u3067\\\\u96e8\\\\u3000\\\\u7a4d\\\\u96ea\\\\u30a8\\\\u30ea\\\\u30a2\\\\u306f\\\\u878d\\\\u96ea\\\\u306b\\\\u6ce8\\\\u610f\\\\n2023.12.26 15:04\\\\n12\\\\u670827\\\\u65e5(\\\\u6c34)\\\\u3000\\\\u5404\\\\u5730\\\\u306e\\\\u6c17\\\\u6e29\\\\u5909\\\\u5316\\\\u3068\\\\u6700\\\\u9069\\\\u306a\\\\u670d\\\\u88c5\\\\n2023.12.26 16:55\\\\n\\\\u304a\\\\u5929\\\\u6c17\\\\u30cb\\\\u30e5\\\\u30fc\\\\u30b9\\\\u3092\\\\u3082\\\\u3063\\\\u3068\\\\u8aad\\\\u3080 \\\\u2192\\\\n\\\\u3044\\\\u307e\\\\u304a\\\\u3059\\\\u3059\\\\u3081\\\\u306e\\\\u30e1\\\\u30cb\\\\u30e5\\\\u30fc\\\\n\\\\u96e8\\\\u96f2\\\\u30ec\\\\u30fc\\\\u30c0\\\\u30fc\\\\n\\\\u96e8\\\\u96f2\\\\u306e\\\\u52d5\\\\u304d\\\\u3068\\\\u4e88\\\\u60f3\\\\u3092\\\\u78ba\\\\u8a8d\\\\n\\\\u30a6\\\\u30a7\\\\u30b6\\\\u30fc\\\\u30ea\\\\u30dd\\\\u30fc\\\\u30c8\\\\n\\\\u5168\\\\u56fd\\\\u304b\\\\u3089\\\\u5c4a\\\\u304f\\\\u304a\\\\u5929\\\\u6c17\\\\u30ea\\\\u30dd\\\\u30fc\\\\u30c8\\\\n\\\\u9632\\\\u707d\\\\u30fb\\\\u6e1b\\\\u707d\\\\u30e1\\\\u30cb\\\\u30e5\\\\u30fc\\\\n\\\\u5929\\\\u6c17\\\\u30e1\\\\u30cb\\\\u30e5\\\\u30fc\\\\n\\\\u81ea\\\\u7136\\\\u30fb\\\\u5b63\\\\u7bc0\\\\u30fb\\\\u30ec\\\\u30b8\\\\u30e3\\\\u30fc\\\\u60c5\\\\u5831\\\\n\\\\u4e88\\\\u5831\\\\u7cbe\\\\u5ea6\\\\u5411\\\\u4e0a\\\\u306e\\\\u53d6\\\\u308a\\\\u7d44\\\\u307f\\\\u306b\\\\u3064\\\\u3044\\\\u3066\\\\n\\\\u6771\\\\u4eac\\\\u4ed8\\\\u8fd1\\\\u306e\\\\u7a7a\\\\u306e\\\\u5199\\\\u771f\\\\n\\\\u30a6\\\\u30a7\\\\u30b6\\\\u30fc\\\\u30cb\\\\u30e5\\\\u30fc\\\\u30b9 {{item.cityname}}\\\\n\\\\u5929\\\\u6c17\\\\u4e88\\\\u5831\\\\u3092\\\\u691c\\\\u7d22\\\\n\\\\u5929\\\\u6c17\\\\n\\\\u9632\\\\u707d\\\\u30fb\\\\u6e1b\\\\u707d\\\\n\\\\u81ea\\\\u7136\\\\u30fb\\\\u5b63\\\\u7bc0\\\\u30fb\\\\u5065\\\\u5eb7\\\\n\\\\u4fbf\\\\u5229\\\\u306a\\\\u30e1\\\\u30cb\\\\u30e5\\\\u30fc\\\\n\\\\u307b\\\\u304b\\\\u5168\\\\u30e1\\\\u30cb\\\\u30e5\\\\u30fc\\\\n\\\\u6771\\\\u4eac\\\\u306e\\\\u5929\\\\u6c17\\\\u4e88\\\\u5831\\\\n5\\\\u5206\\\\u3054\\\\u3068\\\\n1\\\\u6642\\\\u9593\\\\u3054\\\\u3068\\\\n\\\\u4eca\\\\u65e5\\\\u660e\\\\u65e5\\\\n\\\\u9031\\\\u9593\\\\u5929\\\\u6c17\\\\n\\\\u65e5\\\\n\\\\u5929\\\\u6c17\\\\n\\\\u6c17\\\\u6e29\\\\n\\\\u964d\\\\u6c34\\\\n\\\\u78ba\\\\u7387\\\\n\\\\u4eca\\\\u65e5\\\\n12\\\\u670826\\\\u65e5 (\\\\u706b)\\\\n\\\\u6700\\\\u9ad813\\\\u2103\\\\n\\\\u6700\\\\u4f4e3\\\\u2103\\\\n\\\\u5348\\\\u524d-%\\\\n\\\\u5348\\\\u5f8c0%\\\\n\\\\u660e\\\\u65e5\\\\n12\\\\u670827\\\\u65e5 (\\\\u6c34)\\\\n\\\\u6700\\\\u9ad813\\\\u2103\\\\n\\\\u6700\\\\u4f4e5\\\\u2103\\\\n\\\\u5348\\\\u524d0%\\\\n\"}, {\"url\": \"https://tenki.jp/forecast/3/16/\", \"content\": \"\\\\u6771\\\\u4eac\\\\u90fd\\\\u306e\\\\u5404\\\\u5730\\\\u306e\\\\u4eca\\\\u65e5\\\\u3068\\\\u660e\\\\u65e5\\\\u306e\\\\u5929\\\\u6c17\\\\u3001\\\\u6c17\\\\u6e29\\\\u3001\\\\u964d\\\\u6c34\\\\u78ba\\\\u7387\\\\u3092\\\\u5730\\\\u56f3\\\\u4e0a\\\\u306b\\\\u8868\\\\u793a\\\\u3057\\\\u3066\\\\u3044\\\\u307e\\\\u3059\\\\u3002\\\\u6674\\\\u308c\\\\u9593\\\\u304c\\\\u51fa\\\\u308b\\\\u304c\\\\u3001\\\\u5348\\\\u5f8c\\\\u306f\\\\u96f2\\\\u304c\\\\u5e83\\\\u304c\\\\u308a\\\\u3084\\\\u3059\\\\u304f\\\\u3001\\\\u6c57\\\\u3070\\\\u3080\\\\u967d\\\\u6c17\\\\u306b\\\\u306a\\\\u308a\\\\u305d\\\\u3046\\\\u3067\\\\u3059\\\\u3002\"}]', name='tavily_search_results_json', id='12ab8540-3f3d-4659-9cce-1745f682cd3a', tool_call_id='call_LWfVlKa8zBvadN163MZTPnVM'),\n",
              " AIMessage(content='今日の東京の天気は晴れ間が出ますが、午後には雲が広がりやすくなります。気温は13°C程度で、降水確率は0%です。明日も同様に晴れで、最高気温は13°C、最低気温は5°Cの予想です。体調管理に気をつけてください。詳細な情報は以下のリンクから確認できます：\\n\\n- [Weather News](https://weathernews.jp/onebox/35.691667/139.750000/q=東京&v=7568ec9017b1ee619b719b2e27bb2222ff3533c3d047419f40d2980258c0a799&temp=c&lang=ja)\\n- [tenki.jp](https://tenki.jp/forecast/3/16/)', response_metadata={'token_usage': {'completion_tokens': 188, 'prompt_tokens': 5265, 'total_tokens': 5453}, 'model_name': 'gpt-4o', 'system_fingerprint': 'fp_319be4768e', 'finish_reason': 'stop', 'logprobs': None}, id='run-38f3fff3-0223-4d1f-ba16-df46378d4af1-0', usage_metadata={'input_tokens': 5265, 'output_tokens': 188, 'total_tokens': 5453})]"
            ]
          },
          "metadata": {},
          "execution_count": 24
        }
      ]
    },
    {
      "cell_type": "markdown",
      "source": [
        "## Streaming Messages\n",
        "エージェントを`invoke`で呼び出して、最終的なレスポンスを返す方法を見ました。エージェントが複数のステップを実行する場合、時間がかかるかもしれません。途中経過を表示するために、発生したメッセージをストリームバックすることができます。"
      ],
      "metadata": {
        "id": "adYn8ybOBMlh"
      }
    },
    {
      "cell_type": "code",
      "source": [
        "for chunk in agent_executor.stream(\n",
        "    {\"messages\":[HumanMessage(content=\"Tell me the weather in Tokyo tomorrow in Japanese.\")]}\n",
        "):\n",
        "    print(chunk)\n",
        "    print(\"========\")"
      ],
      "metadata": {
        "colab": {
          "base_uri": "https://localhost:8080/"
        },
        "id": "5ZOty8xGAsQN",
        "outputId": "ae9fd539-764a-4780-bd06-dab70fd7970f"
      },
      "execution_count": null,
      "outputs": [
        {
          "output_type": "stream",
          "name": "stdout",
          "text": [
            "{'agent': {'messages': [AIMessage(content='', additional_kwargs={'tool_calls': [{'id': 'call_w4qTdFC2P7IT0C0UYdXF77mD', 'function': {'arguments': '{\"query\":\"Tokyo weather forecast for tomorrow\"}', 'name': 'tavily_search_results_json'}, 'type': 'function'}]}, response_metadata={'token_usage': {'completion_tokens': 22, 'prompt_tokens': 89, 'total_tokens': 111}, 'model_name': 'gpt-4o', 'system_fingerprint': 'fp_319be4768e', 'finish_reason': 'tool_calls', 'logprobs': None}, id='run-f17dded4-4869-4825-82f8-f8628f09c996-0', tool_calls=[{'name': 'tavily_search_results_json', 'args': {'query': 'Tokyo weather forecast for tomorrow'}, 'id': 'call_w4qTdFC2P7IT0C0UYdXF77mD'}], usage_metadata={'input_tokens': 89, 'output_tokens': 22, 'total_tokens': 111})]}}\n",
            "========\n",
            "{'tools': {'messages': [ToolMessage(content='[{\"url\": \"https://www.weatherapi.com/\", \"content\": \"{\\'location\\': {\\'name\\': \\'Tokyo\\', \\'region\\': \\'Tokyo\\', \\'country\\': \\'Japan\\', \\'lat\\': 35.69, \\'lon\\': 139.69, \\'tz_id\\': \\'Asia/Tokyo\\', \\'localtime_epoch\\': 1717853369, \\'localtime\\': \\'2024-06-08 22:29\\'}, \\'current\\': {\\'last_updated_epoch\\': 1717852500, \\'last_updated\\': \\'2024-06-08 22:15\\', \\'temp_c\\': 21.3, \\'temp_f\\': 70.3, \\'is_day\\': 0, \\'condition\\': {\\'text\\': \\'Partly cloudy\\', \\'icon\\': \\'//cdn.weatherapi.com/weather/64x64/night/116.png\\', \\'code\\': 1003}, \\'wind_mph\\': 10.5, \\'wind_kph\\': 16.9, \\'wind_degree\\': 160, \\'wind_dir\\': \\'SSE\\', \\'pressure_mb\\': 1016.0, \\'pressure_in\\': 30.0, \\'precip_mm\\': 0.0, \\'precip_in\\': 0.0, \\'humidity\\': 83, \\'cloud\\': 25, \\'feelslike_c\\': 21.3, \\'feelslike_f\\': 70.3, \\'windchill_c\\': 21.5, \\'windchill_f\\': 70.7, \\'heatindex_c\\': 24.5, \\'heatindex_f\\': 76.0, \\'dewpoint_c\\': 15.6, \\'dewpoint_f\\': 60.2, \\'vis_km\\': 10.0, \\'vis_miles\\': 6.0, \\'uv\\': 1.0, \\'gust_mph\\': 18.1, \\'gust_kph\\': 29.1}}\"}, {\"url\": \"https://www.accuweather.com/en/jp/tokyo/226396/august-weather/226396\", \"content\": \"Get the monthly weather forecast for Tokyo, Tokyo, Japan, including daily high/low, historical averages, to help you plan ahead.\"}]', name='tavily_search_results_json', tool_call_id='call_w4qTdFC2P7IT0C0UYdXF77mD')]}}\n",
            "========\n",
            "{'agent': {'messages': [AIMessage(content='東京の明日の天気は、晴れ時々曇りです。気温は最高で25度、最低で18度の予報です。風は南東からの風が吹くでしょう。\\n\\n（天気情報は変更されることがありますので、最新の情報を確認してください。）', response_metadata={'token_usage': {'completion_tokens': 66, 'prompt_tokens': 583, 'total_tokens': 649}, 'model_name': 'gpt-4o', 'system_fingerprint': 'fp_319be4768e', 'finish_reason': 'stop', 'logprobs': None}, id='run-8a6d3147-1d3a-47bf-b9df-b1b994ea35e3-0', usage_metadata={'input_tokens': 583, 'output_tokens': 66, 'total_tokens': 649})]}}\n",
            "========\n"
          ]
        }
      ]
    },
    {
      "cell_type": "markdown",
      "source": [
        "## Streaming tokens\n",
        "メッセージをストリームバックするだけでなく、トークンをストリームバックするのも便利です。`.astream_events`メソッドでこれを行うことができる。\n",
        "\n",
        "\n"
      ],
      "metadata": {
        "id": "U6aT_JhwC8Fu"
      }
    },
    {
      "cell_type": "code",
      "source": [
        "async for event in agent_executor.astream_events(\n",
        "    {\"messages\":[HumanMessage(content=\"What's the weather in tokyo ,tell me in Japanese.\")]},version=\"v1\"\n",
        "):\n",
        "    kind = event[\"event\"]\n",
        "    if kind == \"on_chain_start\":\n",
        "        if (\n",
        "            event[\"name\"]==\"Agent\"\n",
        "        ):\n",
        "            print(\n",
        "                f'Starting Agent : {event[\"name\"]} with input : {event[\"data\"].get(\"input\")}'\n",
        "            )\n",
        "    elif kind == \"on_chain_end\":\n",
        "        if (\n",
        "            event[\"name\"]==\"Agent\"\n",
        "        ):\n",
        "            print()\n",
        "            print(\"------------\")\n",
        "            print(\n",
        "                f'Done Agent : {event[\"name\"]} with output : {event[\"data\"].get(\"output\")[\"output\"]}'\n",
        "            )\n",
        "    if kind == \"on_chat_model_stream\":\n",
        "        content = event[\"data\"][\"chunk\"].content\n",
        "        if content:\n",
        "            # Empty content in the context of OpenAI means\n",
        "            # that the model is asking for a tool to be invoked.\n",
        "            # So we only print non-empty content\n",
        "            print(content, end=\"|\")\n",
        "    elif kind == \"on_tool_start\":\n",
        "        print(\"--\")\n",
        "        print(\n",
        "            f\"Starting tool: {event['name']} with inputs: {event['data'].get('input')}\"\n",
        "        )\n",
        "    elif kind == \"on_tool_end\":\n",
        "        print(f\"Done tool: {event['name']}\")\n",
        "        print(f\"Tool output was: {event['data'].get('output')}\")\n",
        "        print(\"--\")\n"
      ],
      "metadata": {
        "colab": {
          "base_uri": "https://localhost:8080/"
        },
        "id": "qUgVSE7fCRGm",
        "outputId": "4a641b17-c923-41cd-ea2d-9f323b4f0a31"
      },
      "execution_count": null,
      "outputs": [
        {
          "output_type": "stream",
          "name": "stderr",
          "text": [
            "/usr/local/lib/python3.10/dist-packages/langchain_core/_api/beta_decorator.py:87: LangChainBetaWarning: This API is in beta and may change in the future.\n",
            "  warn_beta(\n"
          ]
        },
        {
          "output_type": "stream",
          "name": "stdout",
          "text": [
            "--\n",
            "Starting tool: tavily_search_results_json with inputs: {'query': 'Tokyo weather'}\n",
            "Done tool: tavily_search_results_json\n",
            "Tool output was: [{'url': 'https://www.weatherapi.com/', 'content': \"{'location': {'name': 'Tokyo', 'region': 'Tokyo', 'country': 'Japan', 'lat': 35.69, 'lon': 139.69, 'tz_id': 'Asia/Tokyo', 'localtime_epoch': 1717854420, 'localtime': '2024-06-08 22:47'}, 'current': {'last_updated_epoch': 1717854300, 'last_updated': '2024-06-08 22:45', 'temp_c': 22.4, 'temp_f': 72.3, 'is_day': 0, 'condition': {'text': 'Partly cloudy', 'icon': '//cdn.weatherapi.com/weather/64x64/night/116.png', 'code': 1003}, 'wind_mph': 10.5, 'wind_kph': 16.9, 'wind_degree': 160, 'wind_dir': 'SSE', 'pressure_mb': 1016.0, 'pressure_in': 30.0, 'precip_mm': 0.0, 'precip_in': 0.0, 'humidity': 78, 'cloud': 25, 'feelslike_c': 24.7, 'feelslike_f': 76.5, 'windchill_c': 21.5, 'windchill_f': 70.7, 'heatindex_c': 24.5, 'heatindex_f': 76.0, 'dewpoint_c': 15.6, 'dewpoint_f': 60.2, 'vis_km': 10.0, 'vis_miles': 6.0, 'uv': 1.0, 'gust_mph': 18.1, 'gust_kph': 29.1}}\"}, {'url': 'https://world-weather.info/forecast/japan/tokyo/august-2024/', 'content': 'Extended weather forecast in Tokyo. Hourly Week 10 days 14 days 30 days Year. Detailed ⚡ Tokyo Weather Forecast for August 2024 - day/night 🌡️ temperatures, precipitations - World-Weather.info.'}]\n",
            "--\n",
            "現在|の|東京|の|天|気|は|、|部分|的|に|曇|り|です|。|気|温|は|約|22|.|4|℃|、|湿|度|は|78|%|です|。|風|は|南|南|東|から|16|.|9| km|/h|の|速|さ|で|吹|いて|います|。|体|感|温|度|は|約|24|.|7|℃|です|。|"
          ]
        }
      ]
    },
    {
      "cell_type": "markdown",
      "source": [
        "## Adding in memory\n",
        "先に述べたように、このエージェントはステートレスである。つまり、以前のやりとりを覚えていない。このエージェントにメモリーを与えるには、チェックポインターを渡す必要がある。チェックポインター`thread_id`も渡す必要がある（どのスレッド／会話から再開するかを知るため）"
      ],
      "metadata": {
        "id": "MFON7de7HQY1"
      }
    },
    {
      "cell_type": "code",
      "source": [
        "from langgraph.checkpoint.sqlite import SqliteSaver\n",
        "\n",
        "memory = SqliteSaver.from_conn_string(\":memory:\")"
      ],
      "metadata": {
        "id": "ubvqm7EhGnYy"
      },
      "execution_count": 30,
      "outputs": []
    },
    {
      "cell_type": "code",
      "source": [
        "agent_executor = create_react_agent(model,tools,checkpointer=memory)\n",
        "config = {\"configurable\":{\"thread_id\":\"abc123\"}}"
      ],
      "metadata": {
        "id": "SgxLtNsfH_0O"
      },
      "execution_count": 32,
      "outputs": []
    },
    {
      "cell_type": "code",
      "source": [
        "for chunk in agent_executor.stream(\n",
        "    {\"messages\":[HumanMessage(content=\"hi im niikun!\")]},config\n",
        "):\n",
        "    print(chunk)\n",
        "    print(\"----\")"
      ],
      "metadata": {
        "colab": {
          "base_uri": "https://localhost:8080/"
        },
        "id": "cfHNdbwSICGV",
        "outputId": "24d839fa-f427-45ed-a4f7-6baed89f2c4b"
      },
      "execution_count": 33,
      "outputs": [
        {
          "output_type": "stream",
          "name": "stdout",
          "text": [
            "{'agent': {'messages': [AIMessage(content='Hello, Niikun! How can I assist you today?', response_metadata={'token_usage': {'completion_tokens': 13, 'prompt_tokens': 84, 'total_tokens': 97}, 'model_name': 'gpt-4o', 'system_fingerprint': 'fp_319be4768e', 'finish_reason': 'stop', 'logprobs': None}, id='run-af723528-9822-4db8-ae8e-a8794be4464d-0', usage_metadata={'input_tokens': 84, 'output_tokens': 13, 'total_tokens': 97})]}}\n",
            "----\n"
          ]
        }
      ]
    },
    {
      "cell_type": "markdown",
      "source": [],
      "metadata": {
        "id": "_FYs7zNNJ_wo"
      }
    },
    {
      "cell_type": "code",
      "source": [
        "for chunk in agent_executor.stream(\n",
        "    {\"messages\":[HumanMessage(content=\"Whats my name?\")]},config\n",
        "):\n",
        "    print(chunk)\n",
        "    print(\"------\")"
      ],
      "metadata": {
        "colab": {
          "base_uri": "https://localhost:8080/"
        },
        "id": "7gStpBbfJJi-",
        "outputId": "af9bf244-a1ac-498a-a311-005a5699abfb"
      },
      "execution_count": 35,
      "outputs": [
        {
          "output_type": "stream",
          "name": "stdout",
          "text": [
            "{'agent': {'messages': [AIMessage(content='You mentioned that your name is Niikun. How can I help you today, Niikun?', response_metadata={'token_usage': {'completion_tokens': 20, 'prompt_tokens': 108, 'total_tokens': 128}, 'model_name': 'gpt-4o', 'system_fingerprint': 'fp_319be4768e', 'finish_reason': 'stop', 'logprobs': None}, id='run-73bfad7d-e846-48ca-b71b-65ef3b2ccc58-0', usage_metadata={'input_tokens': 108, 'output_tokens': 20, 'total_tokens': 128})]}}\n",
            "------\n"
          ]
        }
      ]
    },
    {
      "cell_type": "markdown",
      "source": [
        "新しい会話を始めたければ、使用する`thread_id`を変更するだけでいい。"
      ],
      "metadata": {
        "id": "9vu02RpkKI9Y"
      }
    },
    {
      "cell_type": "code",
      "source": [
        "config = {\"configurable\":{\"thread_id\":\"xyz123\"}}\n",
        "\n",
        "for chunk in agent_executor.stream(\n",
        "    {\"messages\":[HumanMessage(content=\"whats my name? Tell me in Japanese\")]},config\n",
        "):\n",
        "    print(chunk)"
      ],
      "metadata": {
        "colab": {
          "base_uri": "https://localhost:8080/"
        },
        "id": "igpJdmp-J3f7",
        "outputId": "cbb5c573-99c8-49ad-cf4f-1ddc098f0f26"
      },
      "execution_count": 40,
      "outputs": [
        {
          "output_type": "stream",
          "name": "stdout",
          "text": [
            "{'agent': {'messages': [AIMessage(content='あなたの名前は何ですか？\\n(Anata no namae wa nan desu ka?)\\n\\nThis means \"What is your name?\" in Japanese.', response_metadata={'token_usage': {'completion_tokens': 32, 'prompt_tokens': 212, 'total_tokens': 244}, 'model_name': 'gpt-4o', 'system_fingerprint': 'fp_319be4768e', 'finish_reason': 'stop', 'logprobs': None}, id='run-f1a5ac5a-de65-4eb5-9466-e26cd5758cfd-0', usage_metadata={'input_tokens': 212, 'output_tokens': 32, 'total_tokens': 244})]}}\n"
          ]
        }
      ]
    },
    {
      "cell_type": "markdown",
      "source": [
        "## Conclusion\n",
        "以上です！このクイックスタートでは、シンプルなエージェントの作成方法を説明しました。そして、中間ステップだけでなく、トークンも含めてレスポンスをストリームバックする方法を紹介しました！さらに、エージェントと会話ができるように、メモリも追加しました。エージェントは複雑なトピックで、学ぶべきことがたくさんあります！\n",
        "\n",
        "エージェントについての詳しい情報は、LangGraphのドキュメントをご覧ください。これには独自のコンセプト、チュートリアル、ハウツーガイドがあります。"
      ],
      "metadata": {
        "id": "EVHU9KV2LRVf"
      }
    },
    {
      "cell_type": "code",
      "source": [],
      "metadata": {
        "id": "yF3az7o0K2WT"
      },
      "execution_count": null,
      "outputs": []
    }
  ]
}